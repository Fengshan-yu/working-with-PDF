{
 "cells": [
  {
   "cell_type": "code",
   "execution_count": 1,
   "id": "b2c838c6",
   "metadata": {},
   "outputs": [],
   "source": [
    "import glob"
   ]
  },
  {
   "cell_type": "code",
   "execution_count": 2,
   "id": "d4ba2321",
   "metadata": {},
   "outputs": [],
   "source": [
    "path = \"C:\\\\Users\\\\fengs\\\\scan\""
   ]
  },
  {
   "cell_type": "code",
   "execution_count": 3,
   "id": "a1a113fe",
   "metadata": {},
   "outputs": [],
   "source": [
    "files = glob.glob(path + \"\\*.PDF\")"
   ]
  },
  {
   "cell_type": "code",
   "execution_count": 4,
   "id": "b86fba03",
   "metadata": {},
   "outputs": [
    {
     "name": "stdout",
     "output_type": "stream",
     "text": [
      "C:\\Users\\fengs\\scan\\scan-04112022 (1).pdf\n",
      "C:\\Users\\fengs\\scan\\scan-04112022 (2).pdf\n",
      "C:\\Users\\fengs\\scan\\scan-04112022 (3).pdf\n",
      "C:\\Users\\fengs\\scan\\scan-04112022.pdf\n"
     ]
    }
   ],
   "source": [
    "for file in files:\n",
    "    print(file)"
   ]
  },
  {
   "cell_type": "code",
   "execution_count": 5,
   "id": "d25188b0",
   "metadata": {},
   "outputs": [],
   "source": [
    "from PyPDF2 import PdfFileMerger\n"
   ]
  },
  {
   "cell_type": "code",
   "execution_count": 6,
   "id": "ac8fd029",
   "metadata": {},
   "outputs": [],
   "source": [
    "combined = PdfFileMerger()\n",
    "\n",
    "for file in files:\n",
    "    combined.append(file)\n",
    "\n",
    "combined.write(\"WES_transcript.pdf\")\n",
    "combined.close()"
   ]
  },
  {
   "cell_type": "code",
   "execution_count": null,
   "id": "e6ac7b7c",
   "metadata": {},
   "outputs": [],
   "source": []
  }
 ],
 "metadata": {
  "kernelspec": {
   "display_name": "Python 3 (ipykernel)",
   "language": "python",
   "name": "python3"
  },
  "language_info": {
   "codemirror_mode": {
    "name": "ipython",
    "version": 3
   },
   "file_extension": ".py",
   "mimetype": "text/x-python",
   "name": "python",
   "nbconvert_exporter": "python",
   "pygments_lexer": "ipython3",
   "version": "3.9.7"
  }
 },
 "nbformat": 4,
 "nbformat_minor": 5
}
